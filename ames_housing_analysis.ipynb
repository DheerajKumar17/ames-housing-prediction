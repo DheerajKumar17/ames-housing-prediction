{
 "cells": [
  {
   "cell_type": "markdown",
   "id": "0ff58975-bedf-489a-81b4-1fa2491a3ccf",
   "metadata": {},
   "source": [
    "# Data Exploration"
   ]
  },
  {
   "cell_type": "code",
   "execution_count": 5,
   "id": "7ad46ad4-c274-4b0d-8d85-f99fb4ac85e1",
   "metadata": {},
   "outputs": [
    {
     "name": "stdout",
     "output_type": "stream",
     "text": [
      "Dataset Shape: (2930, 82)\n",
      "\n",
      "First 5 rows:\n"
     ]
    },
    {
     "data": {
      "text/html": [
       "<div>\n",
       "<style scoped>\n",
       "    .dataframe tbody tr th:only-of-type {\n",
       "        vertical-align: middle;\n",
       "    }\n",
       "\n",
       "    .dataframe tbody tr th {\n",
       "        vertical-align: top;\n",
       "    }\n",
       "\n",
       "    .dataframe thead th {\n",
       "        text-align: right;\n",
       "    }\n",
       "</style>\n",
       "<table border=\"1\" class=\"dataframe\">\n",
       "  <thead>\n",
       "    <tr style=\"text-align: right;\">\n",
       "      <th></th>\n",
       "      <th>Order</th>\n",
       "      <th>PID</th>\n",
       "      <th>MS SubClass</th>\n",
       "      <th>MS Zoning</th>\n",
       "      <th>Lot Frontage</th>\n",
       "      <th>Lot Area</th>\n",
       "      <th>Street</th>\n",
       "      <th>Alley</th>\n",
       "      <th>Lot Shape</th>\n",
       "      <th>Land Contour</th>\n",
       "      <th>...</th>\n",
       "      <th>Pool Area</th>\n",
       "      <th>Pool QC</th>\n",
       "      <th>Fence</th>\n",
       "      <th>Misc Feature</th>\n",
       "      <th>Misc Val</th>\n",
       "      <th>Mo Sold</th>\n",
       "      <th>Yr Sold</th>\n",
       "      <th>Sale Type</th>\n",
       "      <th>Sale Condition</th>\n",
       "      <th>SalePrice</th>\n",
       "    </tr>\n",
       "  </thead>\n",
       "  <tbody>\n",
       "    <tr>\n",
       "      <th>0</th>\n",
       "      <td>1</td>\n",
       "      <td>526301100</td>\n",
       "      <td>20</td>\n",
       "      <td>RL</td>\n",
       "      <td>141.0</td>\n",
       "      <td>31770</td>\n",
       "      <td>Pave</td>\n",
       "      <td>NaN</td>\n",
       "      <td>IR1</td>\n",
       "      <td>Lvl</td>\n",
       "      <td>...</td>\n",
       "      <td>0</td>\n",
       "      <td>NaN</td>\n",
       "      <td>NaN</td>\n",
       "      <td>NaN</td>\n",
       "      <td>0</td>\n",
       "      <td>5</td>\n",
       "      <td>2010</td>\n",
       "      <td>WD</td>\n",
       "      <td>Normal</td>\n",
       "      <td>215000</td>\n",
       "    </tr>\n",
       "    <tr>\n",
       "      <th>1</th>\n",
       "      <td>2</td>\n",
       "      <td>526350040</td>\n",
       "      <td>20</td>\n",
       "      <td>RH</td>\n",
       "      <td>80.0</td>\n",
       "      <td>11622</td>\n",
       "      <td>Pave</td>\n",
       "      <td>NaN</td>\n",
       "      <td>Reg</td>\n",
       "      <td>Lvl</td>\n",
       "      <td>...</td>\n",
       "      <td>0</td>\n",
       "      <td>NaN</td>\n",
       "      <td>MnPrv</td>\n",
       "      <td>NaN</td>\n",
       "      <td>0</td>\n",
       "      <td>6</td>\n",
       "      <td>2010</td>\n",
       "      <td>WD</td>\n",
       "      <td>Normal</td>\n",
       "      <td>105000</td>\n",
       "    </tr>\n",
       "    <tr>\n",
       "      <th>2</th>\n",
       "      <td>3</td>\n",
       "      <td>526351010</td>\n",
       "      <td>20</td>\n",
       "      <td>RL</td>\n",
       "      <td>81.0</td>\n",
       "      <td>14267</td>\n",
       "      <td>Pave</td>\n",
       "      <td>NaN</td>\n",
       "      <td>IR1</td>\n",
       "      <td>Lvl</td>\n",
       "      <td>...</td>\n",
       "      <td>0</td>\n",
       "      <td>NaN</td>\n",
       "      <td>NaN</td>\n",
       "      <td>Gar2</td>\n",
       "      <td>12500</td>\n",
       "      <td>6</td>\n",
       "      <td>2010</td>\n",
       "      <td>WD</td>\n",
       "      <td>Normal</td>\n",
       "      <td>172000</td>\n",
       "    </tr>\n",
       "    <tr>\n",
       "      <th>3</th>\n",
       "      <td>4</td>\n",
       "      <td>526353030</td>\n",
       "      <td>20</td>\n",
       "      <td>RL</td>\n",
       "      <td>93.0</td>\n",
       "      <td>11160</td>\n",
       "      <td>Pave</td>\n",
       "      <td>NaN</td>\n",
       "      <td>Reg</td>\n",
       "      <td>Lvl</td>\n",
       "      <td>...</td>\n",
       "      <td>0</td>\n",
       "      <td>NaN</td>\n",
       "      <td>NaN</td>\n",
       "      <td>NaN</td>\n",
       "      <td>0</td>\n",
       "      <td>4</td>\n",
       "      <td>2010</td>\n",
       "      <td>WD</td>\n",
       "      <td>Normal</td>\n",
       "      <td>244000</td>\n",
       "    </tr>\n",
       "    <tr>\n",
       "      <th>4</th>\n",
       "      <td>5</td>\n",
       "      <td>527105010</td>\n",
       "      <td>60</td>\n",
       "      <td>RL</td>\n",
       "      <td>74.0</td>\n",
       "      <td>13830</td>\n",
       "      <td>Pave</td>\n",
       "      <td>NaN</td>\n",
       "      <td>IR1</td>\n",
       "      <td>Lvl</td>\n",
       "      <td>...</td>\n",
       "      <td>0</td>\n",
       "      <td>NaN</td>\n",
       "      <td>MnPrv</td>\n",
       "      <td>NaN</td>\n",
       "      <td>0</td>\n",
       "      <td>3</td>\n",
       "      <td>2010</td>\n",
       "      <td>WD</td>\n",
       "      <td>Normal</td>\n",
       "      <td>189900</td>\n",
       "    </tr>\n",
       "  </tbody>\n",
       "</table>\n",
       "<p>5 rows × 82 columns</p>\n",
       "</div>"
      ],
      "text/plain": [
       "   Order        PID  MS SubClass MS Zoning  Lot Frontage  Lot Area Street  \\\n",
       "0      1  526301100           20        RL         141.0     31770   Pave   \n",
       "1      2  526350040           20        RH          80.0     11622   Pave   \n",
       "2      3  526351010           20        RL          81.0     14267   Pave   \n",
       "3      4  526353030           20        RL          93.0     11160   Pave   \n",
       "4      5  527105010           60        RL          74.0     13830   Pave   \n",
       "\n",
       "  Alley Lot Shape Land Contour  ... Pool Area Pool QC  Fence Misc Feature  \\\n",
       "0   NaN       IR1          Lvl  ...         0     NaN    NaN          NaN   \n",
       "1   NaN       Reg          Lvl  ...         0     NaN  MnPrv          NaN   \n",
       "2   NaN       IR1          Lvl  ...         0     NaN    NaN         Gar2   \n",
       "3   NaN       Reg          Lvl  ...         0     NaN    NaN          NaN   \n",
       "4   NaN       IR1          Lvl  ...         0     NaN  MnPrv          NaN   \n",
       "\n",
       "  Misc Val Mo Sold Yr Sold Sale Type  Sale Condition  SalePrice  \n",
       "0        0       5    2010       WD           Normal     215000  \n",
       "1        0       6    2010       WD           Normal     105000  \n",
       "2    12500       6    2010       WD           Normal     172000  \n",
       "3        0       4    2010       WD           Normal     244000  \n",
       "4        0       3    2010       WD           Normal     189900  \n",
       "\n",
       "[5 rows x 82 columns]"
      ]
     },
     "execution_count": 5,
     "metadata": {},
     "output_type": "execute_result"
    }
   ],
   "source": [
    "import pandas as pd\n",
    "import numpy as np\n",
    "import matplotlib.pyplot as plt\n",
    "import seaborn as sns\n",
    "\n",
    "df = pd.read_csv(r'C:\\Users\\dheer\\OneDrive\\Pictures\\Desktop\\ames-housing-prediction\\data\\AmesHousing.csv')\n",
    "\n",
    "print(\"Dataset Shape:\",df.shape)\n",
    "print(\"\\nFirst 5 rows:\")\n",
    "df.head()\n"
   ]
  },
  {
   "cell_type": "code",
   "execution_count": 6,
   "id": "5080bc42-08e5-4e06-a7d3-d7b0c4b112d4",
   "metadata": {},
   "outputs": [
    {
     "name": "stdout",
     "output_type": "stream",
     "text": [
      "['Order', 'PID', 'MS SubClass', 'MS Zoning', 'Lot Frontage', 'Lot Area', 'Street', 'Alley', 'Lot Shape', 'Land Contour', 'Utilities', 'Lot Config', 'Land Slope', 'Neighborhood', 'Condition 1', 'Condition 2', 'Bldg Type', 'House Style', 'Overall Qual', 'Overall Cond', 'Year Built', 'Year Remod/Add', 'Roof Style', 'Roof Matl', 'Exterior 1st', 'Exterior 2nd', 'Mas Vnr Type', 'Mas Vnr Area', 'Exter Qual', 'Exter Cond', 'Foundation', 'Bsmt Qual', 'Bsmt Cond', 'Bsmt Exposure', 'BsmtFin Type 1', 'BsmtFin SF 1', 'BsmtFin Type 2', 'BsmtFin SF 2', 'Bsmt Unf SF', 'Total Bsmt SF', 'Heating', 'Heating QC', 'Central Air', 'Electrical', '1st Flr SF', '2nd Flr SF', 'Low Qual Fin SF', 'Gr Liv Area', 'Bsmt Full Bath', 'Bsmt Half Bath', 'Full Bath', 'Half Bath', 'Bedroom AbvGr', 'Kitchen AbvGr', 'Kitchen Qual', 'TotRms AbvGrd', 'Functional', 'Fireplaces', 'Fireplace Qu', 'Garage Type', 'Garage Yr Blt', 'Garage Finish', 'Garage Cars', 'Garage Area', 'Garage Qual', 'Garage Cond', 'Paved Drive', 'Wood Deck SF', 'Open Porch SF', 'Enclosed Porch', '3Ssn Porch', 'Screen Porch', 'Pool Area', 'Pool QC', 'Fence', 'Misc Feature', 'Misc Val', 'Mo Sold', 'Yr Sold', 'Sale Type', 'Sale Condition', 'SalePrice']\n"
     ]
    }
   ],
   "source": [
    "print(df.columns.tolist())"
   ]
  },
  {
   "cell_type": "code",
   "execution_count": 9,
   "id": "d65fd2e5-8aa8-417c-9b4f-5c45b6ee949b",
   "metadata": {},
   "outputs": [
    {
     "data": {
      "text/plain": [
       "0    215000\n",
       "1    105000\n",
       "2    172000\n",
       "3    244000\n",
       "4    189900\n",
       "Name: SalePrice, dtype: int64"
      ]
     },
     "execution_count": 9,
     "metadata": {},
     "output_type": "execute_result"
    }
   ],
   "source": [
    "df['SalePrice'].head()"
   ]
  },
  {
   "cell_type": "code",
   "execution_count": 13,
   "id": "efe5d1ff-68c4-4ed3-bcd7-d9329499736d",
   "metadata": {},
   "outputs": [
    {
     "name": "stdout",
     "output_type": "stream",
     "text": [
      "Average Price: 180796.0600682594\n"
     ]
    }
   ],
   "source": [
    "print(\"Average Price:\",df['SalePrice'].mean())"
   ]
  },
  {
   "cell_type": "code",
   "execution_count": 14,
   "id": "79036ec1-89d7-43d2-abac-55c98f8db326",
   "metadata": {},
   "outputs": [
    {
     "name": "stdout",
     "output_type": "stream",
     "text": [
      "Cheapest house Price: 12789\n",
      "Most expensive house: 755000\n"
     ]
    }
   ],
   "source": [
    "print(\"Cheapest house Price:\",df['SalePrice'].min())\n",
    "print(\"Most expensive house:\",df['SalePrice'].max())"
   ]
  },
  {
   "cell_type": "code",
   "execution_count": 104,
   "id": "c46299c7-7273-4fc1-bc44-7dfd9cba1020",
   "metadata": {},
   "outputs": [
    {
     "data": {
      "image/png": "[encoded data removed]",
      "text/plain": [
       "<Figure size 640x480 with 1 Axes>"
      ]
     },
     "metadata": {},
     "output_type": "display_data"
    }
   ],
   "source": [
    "# Price Distribution:\n",
    "\n",
    "plt.hist(df['SalePrice'], bins=50)\n",
    "plt.title('House Prices')\n",
    "plt.show()"
   ]
  },
  {
   "cell_type": "markdown",
   "id": "340b8915-37b1-4401-8a16-95deca550af6",
   "metadata": {},
   "source": [
    "The Price distribution shows that most houses sell between 100K - 250K USD, with few of the luxury properties above $500K. This Histogram is right-skewed and is very commonly seen in real estate markets."
   ]
  },
  {
   "cell_type": "markdown",
   "id": "fcfaf8a7-04ba-479f-b207-57ff63545fed",
   "metadata": {},
   "source": [
    "# Missing Value Count"
   ]
  },
  {
   "cell_type": "code",
   "execution_count": 16,
   "id": "8c646c44-2d4f-480a-8978-c2f3873fd01c",
   "metadata": {},
   "outputs": [
    {
     "name": "stdout",
     "output_type": "stream",
     "text": [
      "Total Missing Values in the dataset are: 15749\n"
     ]
    }
   ],
   "source": [
    "missing_count = df.isnull().sum().sum()\n",
    "print(\"Total Missing Values in the dataset are:\",missing_count)"
   ]
  },
  {
   "cell_type": "code",
   "execution_count": 18,
   "id": "3e96aaf5-80f9-4b5d-9b58-70eb23aeeb1c",
   "metadata": {},
   "outputs": [
    {
     "name": "stdout",
     "output_type": "stream",
     "text": [
      "Overall Quality (1-10 scale):\n",
      "0    6\n",
      "1    5\n",
      "2    6\n",
      "3    7\n",
      "4    5\n",
      "Name: Overall Qual, dtype: int64\n"
     ]
    }
   ],
   "source": [
    "print(\"Overall Quality (1-10 scale):\")\n",
    "print(df['Overall Qual'].head())"
   ]
  },
  {
   "cell_type": "code",
   "execution_count": 22,
   "id": "ba19f63c-f619-49e6-aa65-6533cf36aa54",
   "metadata": {},
   "outputs": [
    {
     "name": "stdout",
     "output_type": "stream",
     "text": [
      "House Living Area (in Sq.Ft.) :\n",
      "2925    1003\n",
      "2926     902\n",
      "2927     970\n",
      "2928    1389\n",
      "2929    2000\n",
      "Name: Gr Liv Area, dtype: int64\n"
     ]
    }
   ],
   "source": [
    "print(\"House Living Area (in Sq.Ft.) :\")\n",
    "print(df['Gr Liv Area'].tail())"
   ]
  },
  {
   "cell_type": "code",
   "execution_count": 21,
   "id": "4d4a0690-2026-46b3-abd4-0b182f4b6a8c",
   "metadata": {},
   "outputs": [
    {
     "name": "stdout",
     "output_type": "stream",
     "text": [
      "Year Built:\n",
      "0    1960\n",
      "1    1961\n",
      "2    1958\n",
      "3    1968\n",
      "4    1997\n",
      "Name: Year Built, dtype: int64\n"
     ]
    }
   ],
   "source": [
    "print(\"Year Built:\")\n",
    "print(df['Year Built'].head())"
   ]
  },
  {
   "cell_type": "markdown",
   "id": "671ecf34-75ea-4470-94e2-1cb77232f4eb",
   "metadata": {},
   "source": [
    "# Data Cleaning"
   ]
  },
  {
   "cell_type": "code",
   "execution_count": 49,
   "id": "b7c36153-b5c5-4602-9c07-07a23b0ac3e5",
   "metadata": {},
   "outputs": [
    {
     "name": "stdout",
     "output_type": "stream",
     "text": [
      "Columns with missing values:\n",
      "Pool QC           2917\n",
      "Misc Feature      2824\n",
      "Alley             2732\n",
      "Fence             2358\n",
      "Mas Vnr Type      1775\n",
      "Fireplace Qu      1422\n",
      "Garage Finish      159\n",
      "Garage Cond        159\n",
      "Garage Qual        159\n",
      "Garage Yr Blt      159\n",
      "Garage Type        157\n",
      "Bsmt Exposure       83\n",
      "BsmtFin Type 2      81\n",
      "Bsmt Cond           80\n",
      "BsmtFin Type 1      80\n",
      "Bsmt Qual           80\n",
      "Bsmt Half Bath       2\n",
      "Bsmt Full Bath       2\n",
      "Total Bsmt SF        1\n",
      "Bsmt Unf SF          1\n",
      "BsmtFin SF 2         1\n",
      "BsmtFin SF 1         1\n",
      "dtype: int64\n"
     ]
    }
   ],
   "source": [
    "missing_by_column =df.isnull().sum()\n",
    "print(\"Columns with missing values:\")\n",
    "print(missing_by_column[missing_by_column > 0].sort_values(ascending = False))"
   ]
  },
  {
   "cell_type": "markdown",
   "id": "a8557b20-4640-414c-8d06-4e60e304710d",
   "metadata": {},
   "source": [
    "Here, We have the most number of missing values for Pool QC. Instead of removing the feature, I wanted to retain it under the reason: the premium property list."
   ]
  },
  {
   "cell_type": "code",
   "execution_count": 50,
   "id": "23255849-3200-4472-b361-2bd86777d79c",
   "metadata": {},
   "outputs": [
    {
     "name": "stdout",
     "output_type": "stream",
     "text": [
      "Has_Pool_QC: 13 houses have this feature.\n",
      "Has_Misc_Feature: 106 houses have this feature.\n",
      "Has_Alley: 198 houses have this feature.\n",
      "Has_Fence: 572 houses have this feature.\n",
      "Has_Fireplace_Qu: 1508 houses have this feature.\n"
     ]
    }
   ],
   "source": [
    "premium_features = ['Pool QC', 'Misc Feature', 'Alley', 'Fence', 'Fireplace Qu']\n",
    "\n",
    "for feature in premium_features:\n",
    "    new_col_name = f'Has_{feature.replace(\" \", \"_\")}'\n",
    "    df[new_col_name] = df[feature].notnull().astype(int)\n",
    "    print(f\"{new_col_name}: {df[new_col_name].sum()} houses have this feature.\")"
   ]
  },
  {
   "cell_type": "code",
   "execution_count": 51,
   "id": "669e6659-d705-4070-9d6e-571d30d0bcda",
   "metadata": {},
   "outputs": [
    {
     "name": "stdout",
     "output_type": "stream",
     "text": [
      "Filled the Lot Frontage missing values with median: 68.0\n",
      "Remaining missing values in Lot Frontage: 0\n"
     ]
    },
    {
     "name": "stderr",
     "output_type": "stream",
     "text": [
      "C:\\Users\\dheer\\AppData\\Local\\Temp\\ipykernel_3448\\1824264094.py:5: FutureWarning: A value is trying to be set on a copy of a DataFrame or Series through chained assignment using an inplace method.\n",
      "The behavior will change in pandas 3.0. This inplace method will never work because the intermediate object on which we are setting values always behaves as a copy.\n",
      "\n",
      "For example, when doing 'df[col].method(value, inplace=True)', try using 'df.method({col: value}, inplace=True)' or df[col] = df[col].method(value) instead, to perform the operation inplace on the original object.\n",
      "\n",
      "\n",
      "  df['Lot Frontage'].fillna(lot_frontage_median, inplace=True)\n"
     ]
    }
   ],
   "source": [
    "# HANDLING THE REMAINING MISSING VALUE FEATURES\n",
    "# LOT FRONTAGE FEATURE\n",
    "\n",
    "lot_frontage_median = df['Lot Frontage'].median()\n",
    "df['Lot Frontage'].fillna(lot_frontage_median, inplace=True)\n",
    "print(f\"Filled the Lot Frontage missing values with median: {lot_frontage_median}\")\n",
    "print(\"Remaining missing values in Lot Frontage:\",df['Lot Frontage'].isnull().sum())"
   ]
  },
  {
   "cell_type": "code",
   "execution_count": 52,
   "id": "6e82b4f8-f054-4c9b-a7bf-a175d72a3c8b",
   "metadata": {},
   "outputs": [
    {
     "name": "stdout",
     "output_type": "stream",
     "text": [
      "\n",
      "Garage Type:\n",
      " Missing values: 157\n",
      " Sample values: ['Attchd', 'Attchd', 'Attchd']\n",
      "\n",
      "Garage Yr Blt:\n",
      " Missing values: 159\n",
      " Sample values: [1960.0, 1961.0, 1958.0]\n",
      "\n",
      "Garage Finish:\n",
      " Missing values: 159\n",
      " Sample values: ['Fin', 'Unf', 'Unf']\n",
      "\n",
      "Garage Cars:\n",
      " Missing values: 0\n",
      " Sample values: [2.0, 1.0, 1.0]\n",
      "\n",
      "Garage Area:\n",
      " Missing values: 0\n",
      " Sample values: [528.0, 730.0, 312.0]\n",
      "\n",
      "Garage Qual:\n",
      " Missing values: 159\n",
      " Sample values: ['TA', 'TA', 'TA']\n",
      "\n",
      "Garage Cond:\n",
      " Missing values: 159\n",
      " Sample values: ['TA', 'TA', 'TA']\n"
     ]
    }
   ],
   "source": [
    "# ALL GARAGE FEATURES\n",
    "\n",
    "garage_columns = ['Garage Type', 'Garage Yr Blt', 'Garage Finish', 'Garage Cars', 'Garage Area', 'Garage Qual', 'Garage Cond']\n",
    "\n",
    "for col in garage_columns:\n",
    "    print(f\"\\n{col}:\")\n",
    "    print(f\" Missing values: {df[col].isnull().sum()}\")\n",
    "    print(f\" Sample values: {df[col].dropna().head(3).tolist()}\")"
   ]
  },
  {
   "cell_type": "code",
   "execution_count": 53,
   "id": "05f6e298-678a-4b66-897f-b544b50e2162",
   "metadata": {},
   "outputs": [
    {
     "name": "stdout",
     "output_type": "stream",
     "text": [
      "Houses with missing Garage Area:\n",
      "Empty DataFrame\n",
      "Columns: [Garage Type, Garage Cars, Garage Area, Garage Qual]\n",
      "Index: []\n",
      "\n",
      "Houses with missing Garage Cars:\n",
      "Empty DataFrame\n",
      "Columns: [Garage Type, Garage Cars, Garage Area, Garage Qual]\n",
      "Index: []\n"
     ]
    }
   ],
   "source": [
    "# Investigating the Garage related columns to find patterns within their findings\n",
    "\n",
    "missing_garage_area = df[df['Garage Area'].isnull()]\n",
    "missing_garage_cars = df[df['Garage Cars'].isnull()]\n",
    "\n",
    "print(\"Houses with missing Garage Area:\")\n",
    "print(missing_garage_area[['Garage Type', 'Garage Cars', 'Garage Area', 'Garage Qual']].head())\n",
    "\n",
    "print(\"\\nHouses with missing Garage Cars:\")\n",
    "print(missing_garage_cars[['Garage Type', 'Garage Cars', 'Garage Area', 'Garage Qual']].head())"
   ]
  },
  {
   "cell_type": "markdown",
   "id": "1e72a797-93b9-468e-9caf-fffc8a182ee2",
   "metadata": {},
   "source": [
    "Looks like both columns 'Garage Area' and 'Garage Cars' have the missing values from same record of the dataset. From the finding, We can confirm that the Garage Type is 'Detached', but coming to Garage Cars, Garage Area, Garage Quality, These were missing. That means, The missing columns for this row are unknowns. Let's delve even more deeper into this specific house or observarion which we are currently working on right now."
   ]
  },
  {
   "cell_type": "code",
   "execution_count": 54,
   "id": "97d2be27-8771-4953-9203-bec8f8af05eb",
   "metadata": {},
   "outputs": [
    {
     "name": "stdout",
     "output_type": "stream",
     "text": [
      "Full garage info for house 2236:\n",
      "     Garage Type  Garage Yr Blt Garage Finish  Garage Cars  Garage Area  \\\n",
      "2236      Detchd            NaN           NaN          2.0        400.0   \n",
      "\n",
      "     Garage Qual Garage Cond  \n",
      "2236         NaN         NaN  \n"
     ]
    }
   ],
   "source": [
    "# Let's see more details about this specific house\n",
    "\n",
    "problem_house = df[df.index == 2236]\n",
    "print(\"Full garage info for house 2236:\")\n",
    "garage_cols = ['Garage Type', 'Garage Yr Blt', 'Garage Finish', 'Garage Cars', 'Garage Area', 'Garage Qual', 'Garage Cond']\n",
    "print(problem_house[garage_cols])"
   ]
  },
  {
   "cell_type": "code",
   "execution_count": 55,
   "id": "7ac58301-291f-4580-bb62-d6dcb664d073",
   "metadata": {},
   "outputs": [
    {
     "name": "stdout",
     "output_type": "stream",
     "text": [
      "Typical detached garage stats:\n",
      "Typical cars: 2.0\n",
      "Typical area: 400.0\n"
     ]
    }
   ],
   "source": [
    "# Let's fill the observation with typical detachable garage values:\n",
    "\n",
    "detached_garages = df[df['Garage Type'] == 'Detchd']\n",
    "print(\"Typical detached garage stats:\")\n",
    "print(f\"Typical cars: {detached_garages['Garage Cars'].median()}\")\n",
    "print(f\"Typical area: {detached_garages['Garage Area'].median()}\")"
   ]
  },
  {
   "cell_type": "code",
   "execution_count": 56,
   "id": "233cb5a9-8ca4-4174-b2f6-1dcf23f5d274",
   "metadata": {},
   "outputs": [
    {
     "name": "stdout",
     "output_type": "stream",
     "text": [
      "Fixed house 2236!\n",
      "Remaining missing values:\n",
      "Garage Cars: 0\n",
      "Garage Area: 0\n"
     ]
    }
   ],
   "source": [
    "df.loc[2236, 'Garage Cars'] = 2.0\n",
    "df.loc[2236, 'Garage Area'] = 400.0\n",
    "print(\"Fixed house 2236!\")\n",
    "print(\"Remaining missing values:\")\n",
    "print(f\"Garage Cars: {df['Garage Cars'].isnull().sum()}\")\n",
    "print(f\"Garage Area: {df['Garage Area'].isnull().sum()}\")"
   ]
  },
  {
   "cell_type": "code",
   "execution_count": 57,
   "id": "998cfa8e-cad2-429c-b9ab-c544f1b7d591",
   "metadata": {},
   "outputs": [
    {
     "name": "stdout",
     "output_type": "stream",
     "text": [
      "Houses with garage: 2773\n",
      "Houses without garage: 157\n",
      "Garage feature created successfully\n"
     ]
    }
   ],
   "source": [
    "#  Create Has-Garage feature using the clean Garage Area data\n",
    "\n",
    "df['Has_Garage'] = (df['Garage Area']>0).astype(int)\n",
    "print(f\"Houses with garage: {df['Has_Garage'].sum()}\")\n",
    "print(f\"Houses without garage: {(df['Has_Garage'] == 0).sum()}\")\n",
    "print(\"Garage feature created successfully\")"
   ]
  },
  {
   "cell_type": "code",
   "execution_count": 58,
   "id": "9272e633-18c5-4d5e-ab17-c2fa3bf67e59",
   "metadata": {},
   "outputs": [
    {
     "name": "stdout",
     "output_type": "stream",
     "text": [
      "Quick cleanup results:\n",
      "Houses with basement: 2850\n",
      "Most common ELectrical: SBrkr\n",
      "Electrical missing values: 0\n",
      "Masonry ara missing values: 0\n"
     ]
    }
   ],
   "source": [
    "# Handle remaining missing values\n",
    "\n",
    "# Handling the BASEMENT feature by filling the missing values with 0\n",
    "df['Has_Basement'] = (df['Total Bsmt SF'].fillna(0) > 0).astype(int)\n",
    "\n",
    "# Fill MISSING ELECTRICAL with the most common values\n",
    "most_common_electrical = df['Electrical'].mode()[0]\n",
    "df['Electrical'] = df['Electrical'].fillna(most_common_electrical)\n",
    "\n",
    "# Fill MISSING MASONRY AREA with 0 (no masonry)\n",
    "df['Mas Vnr Area'] = df['Mas Vnr Area'].fillna(0)\n",
    "\n",
    "print(\"Quick cleanup results:\")\n",
    "print(f\"Houses with basement: {df['Has_Basement'].sum()}\")\n",
    "print(f\"Most common ELectrical: {most_common_electrical}\")\n",
    "print(f\"Electrical missing values: {df['Electrical'].isnull().sum()}\")\n",
    "print(f\"Masonry ara missing values: {df['Mas Vnr Area'].isnull().sum()}\")\n"
   ]
  },
  {
   "cell_type": "code",
   "execution_count": 60,
   "id": "c6aa7d0d-36d8-4202-8c9d-f66eb6fc67ee",
   "metadata": {},
   "outputs": [
    {
     "name": "stdout",
     "output_type": "stream",
     "text": [
      "After fixing negative ages:\n",
      "House age range: 0 to 136 years\n",
      "Average house age: 36.4 years\n",
      "Houses with negative age now: 0\n"
     ]
    }
   ],
   "source": [
    "# Fixing the Negative House Age (-1) problem\n",
    "\n",
    "# Fix negative age - Set minimum age to 0 (newly built houses)\n",
    "df['House_Age'] = df['House_Age'].clip(lower=0)\n",
    "\n",
    "print(\"After fixing negative ages:\")\n",
    "print(f\"House age range: {df['House_Age'].min()} to {df['House_Age'].max()} years\")\n",
    "print(f\"Average house age: {df['House_Age'].mean():.1f} years\")\n",
    "print(f\"Houses with negative age now: {len(df[df['House_Age'] < 0])}\")"
   ]
  },
  {
   "cell_type": "code",
   "execution_count": 61,
   "id": "f1eda514-30ce-4d98-b28f-d878f41336cc",
   "metadata": {},
   "outputs": [
    {
     "name": "stdout",
     "output_type": "stream",
     "text": [
      "Total missing values: 15233\n"
     ]
    },
    {
     "data": {
      "text/plain": [
       "Alley             2732\n",
       "Mas Vnr Type      1775\n",
       "Bsmt Qual           80\n",
       "Bsmt Cond           80\n",
       "Bsmt Exposure       83\n",
       "BsmtFin Type 1      80\n",
       "BsmtFin SF 1         1\n",
       "BsmtFin Type 2      81\n",
       "BsmtFin SF 2         1\n",
       "Bsmt Unf SF          1\n",
       "Total Bsmt SF        1\n",
       "Bsmt Full Bath       2\n",
       "Bsmt Half Bath       2\n",
       "Fireplace Qu      1422\n",
       "Garage Type        157\n",
       "Garage Yr Blt      159\n",
       "Garage Finish      159\n",
       "Garage Qual        159\n",
       "Garage Cond        159\n",
       "Pool QC           2917\n",
       "Fence             2358\n",
       "Misc Feature      2824\n",
       "dtype: int64"
      ]
     },
     "execution_count": 61,
     "metadata": {},
     "output_type": "execute_result"
    }
   ],
   "source": [
    "# Secondary Data Cleanliness check\n",
    "\n",
    "print(f\"Total missing values: {df.isnull().sum().sum()}\")\n",
    "df.isnull().sum()[df.isnull().sum() > 0]"
   ]
  },
  {
   "cell_type": "markdown",
   "id": "914f3e06-400b-41e2-a444-cf4ac404b048",
   "metadata": {},
   "source": [
    "From the above, We can conclude that for few columns like pool QC, Misc Feature, Alley, Fence and Fireplace Qu, We can categorize the missing values as \"No Feature\" of the above version s of the special amenities. But, We need to focus upon the medium missing valued features like Mas Vnr Type, Garage Features and Low missing values (Which has 1-2 missing values each) and clean them up again."
   ]
  },
  {
   "cell_type": "code",
   "execution_count": 66,
   "id": "c739c504-2a55-47ab-a3f8-b80232eded43",
   "metadata": {},
   "outputs": [
    {
     "name": "stdout",
     "output_type": "stream",
     "text": [
      "Quick Cleanup Completed!\n",
      "Remaining Missing Values: 12818\n"
     ]
    },
    {
     "data": {
      "text/plain": [
       "Alley             2732\n",
       "Bsmt Qual           80\n",
       "Bsmt Cond           80\n",
       "Bsmt Exposure       83\n",
       "BsmtFin Type 1      80\n",
       "BsmtFin Type 2      81\n",
       "BsmtFin SF 2         1\n",
       "Bsmt Unf SF          1\n",
       "Bsmt Half Bath       2\n",
       "Fireplace Qu      1422\n",
       "Garage Type        157\n",
       "Pool QC           2917\n",
       "Fence             2358\n",
       "Misc Feature      2824\n",
       "dtype: int64"
      ]
     },
     "execution_count": 66,
     "metadata": {},
     "output_type": "execute_result"
    }
   ],
   "source": [
    "# Handle most important missing values quickly\n",
    "df['Mas Vnr Type'] = df['Mas Vnr Type'].fillna('None')\n",
    "df['Garage Yr Blt'] = df['Garage Yr Blt'].fillna(df['Year Built'])\n",
    "df['Garage Finish'] = df['Garage Finish'].fillna('None')\n",
    "df['Garage Qual'] = df['Garage Qual'].fillna('None')\n",
    "df['Garage Cond'] = df['Garage Cond'].fillna('None')\n",
    "\n",
    "# Fill small basement missing values with median\n",
    "df['BsmtFin SF 1'] = df['BsmtFin SF 1'].fillna(df['BsmtFin SF 1'].median())\n",
    "df['Total Bsmt SF'] = df['Total Bsmt SF'].fillna(df['Total Bsmt SF'].median())\n",
    "df['Bsmt Full Bath'] = df['Bsmt Full Bath'].fillna(0)\n",
    "\n",
    "print(\"Quick Cleanup Completed!\")\n",
    "print(f\"Remaining Missing Values: {df.isnull().sum().sum()}\")\n",
    "df.isnull().sum()[df.isnull().sum() > 0]"
   ]
  },
  {
   "cell_type": "markdown",
   "id": "164614ba-d352-4710-bdd5-1308be3a2f70",
   "metadata": {},
   "source": [
    "# Feature Engineering "
   ]
  },
  {
   "cell_type": "code",
   "execution_count": 67,
   "id": "3c367343-9852-4430-a47d-2c819145b443",
   "metadata": {},
   "outputs": [
    {
     "name": "stdout",
     "output_type": "stream",
     "text": [
      "New features created are:\n",
      "Total Bathrooms range: 1.0 to 7.0\n",
      "Total SF range: 334.0 to 11752.0\n"
     ]
    }
   ],
   "source": [
    "# Creating Value adding features\n",
    "\n",
    "# Create total bathrooms feature\n",
    "df['Total_Bathrooms'] = df['Full Bath'] + df['Half Bath'] * 0.5 + df['Bsmt Full Bath'] + df['Bsmt Half Bath'] * 0.5\n",
    "\n",
    "# Create Total Square feet feature\n",
    "df['Total_SF'] = df['Gr Liv Area'] + df['Total Bsmt SF']\n",
    "\n",
    "print(\"New features created are:\")\n",
    "print(f\"Total Bathrooms range: {df['Total_Bathrooms'].min()} to {df['Total_Bathrooms'].max()}\")\n",
    "print(f\"Total SF range: {df['Total_SF'].min()} to {df['Total_SF'].max()}\")"
   ]
  },
  {
   "cell_type": "code",
   "execution_count": 68,
   "id": "0dfe483b-8deb-422a-aa64-c016e451e5aa",
   "metadata": {},
   "outputs": [
    {
     "name": "stdout",
     "output_type": "stream",
     "text": [
      "Additional Features:\n",
      "Quality-SF Interaction range: 334.0 to 117520.0\n",
      "New homes (<= 5 Years): 627 houses\n",
      "Older homes (> 5 years): 2303 houses\n"
     ]
    }
   ],
   "source": [
    "# Create price per square foot benchmark (For later uses)\n",
    "\n",
    "# overall quality * total SF interaction\n",
    "df['Quality_SF_Interaction'] = df['Overall Qual'] * df['Total_SF']\n",
    "\n",
    "# Age group feature (New vs Old homes)\n",
    "df['Is_New_Home'] = (df['House_Age'] <= 5).astype(int)\n",
    "\n",
    "print(\"Additional Features:\")\n",
    "print(f\"Quality-SF Interaction range: {df['Quality_SF_Interaction'].min()} to {df['Quality_SF_Interaction'].max()}\")\n",
    "print(f\"New homes (<= 5 Years): {df['Is_New_Home'].sum()} houses\")\n",
    "print(f\"Older homes (> 5 years): {(df['Is_New_Home'] == 0).sum()} houses\")"
   ]
  },
  {
   "cell_type": "code",
   "execution_count": 108,
   "id": "a8f4aa0d-4f14-4c30-960e-e5d2fda441a5",
   "metadata": {},
   "outputs": [
    {
     "data": {
      "image/png": "[encoded data removed]",
      "text/plain": [
       "<Figure size 640x480 with 2 Axes>"
      ]
     },
     "metadata": {},
     "output_type": "display_data"
    }
   ],
   "source": [
    "# Correlation Heatmap for different features:\n",
    "\n",
    "import seaborn as sns\n",
    "features = ['SalePrice','Overall Qual','Total_SF','Quality_SF_Interaction']\n",
    "sns.heatmap(df[features].corr(), annot=True)\n",
    "plt.title('Feature Correlations')\n",
    "plt.show()"
   ]
  },
  {
   "cell_type": "markdown",
   "id": "4e4c6361-de61-4374-95ba-0c9a7b723308",
   "metadata": {},
   "source": [
    "\"Quality_SF_Interaction\" shows the strongest correlation (0.87) with SalePrice (y in this project), validating the feature engineering approach that was made above. Traditional features like Overall Quality have lower individual correlations."
   ]
  },
  {
   "cell_type": "markdown",
   "id": "19fbd4d8-cabd-47f9-96b6-c39d524f3506",
   "metadata": {},
   "source": [
    "# Model Building"
   ]
  },
  {
   "cell_type": "code",
   "execution_count": 71,
   "id": "9c03089b-0d6e-4f9a-a4f9-48e2ddc450f6",
   "metadata": {},
   "outputs": [
    {
     "name": "stdout",
     "output_type": "stream",
     "text": [
      "Dataset ready for modeling\n",
      "Shape: (2930, 95)\n",
      "Key features created: Total_Bathrooms, Total_SF, Quality_SF_Interaction, Is_New_Home\n"
     ]
    }
   ],
   "source": [
    "print(\"Dataset ready for modeling\")\n",
    "print(f\"Shape: {df.shape}\")\n",
    "print(\"Key features created: Total_Bathrooms, Total_SF, Quality_SF_Interaction, Is_New_Home\")"
   ]
  },
  {
   "cell_type": "code",
   "execution_count": 74,
   "id": "2709fc21-efe7-44d9-8c6a-8716bbe5dd52",
   "metadata": {},
   "outputs": [
    {
     "name": "stdout",
     "output_type": "stream",
     "text": [
      "Expanded model library imported!\n",
      "Models to test:\n",
      "- Ridge Regression\n",
      "- Random Forest\n",
      "- Gradient Boosting\n",
      "- Linear Regression\n",
      "- Lasso Regression\n",
      "- Decision Tree\n",
      "- Support Vector Regression\n"
     ]
    }
   ],
   "source": [
    "# Importing modeling libraries\n",
    "\n",
    "from sklearn.model_selection import train_test_split\n",
    "from sklearn.ensemble import RandomForestRegressor, GradientBoostingRegressor\n",
    "from sklearn.linear_model import Ridge, LinearRegression, Lasso\n",
    "from sklearn.tree import DecisionTreeRegressor\n",
    "from sklearn.svm import SVR\n",
    "from sklearn.metrics import r2_score, mean_squared_error\n",
    "\n",
    "print(\"Expanded model library imported!\")\n",
    "print(\"Models to test:\")\n",
    "print(\"- Ridge Regression\")\n",
    "print(\"- Random Forest\")\n",
    "print(\"- Gradient Boosting\")\n",
    "print(\"- Linear Regression\")\n",
    "print(\"- Lasso Regression\")\n",
    "print(\"- Decision Tree\")\n",
    "print(\"- Support Vector Regression\")"
   ]
  },
  {
   "cell_type": "code",
   "execution_count": 79,
   "id": "a71505ab-2e01-491d-9619-e851e7e2c3be",
   "metadata": {},
   "outputs": [
    {
     "name": "stdout",
     "output_type": "stream",
     "text": [
      "Feature columns selected!\n",
      "Number of features: 13\n"
     ]
    }
   ],
   "source": [
    "# Data Preparation:\n",
    "\n",
    "feature_columns = ['Overall Qual', 'Gr Liv Area', 'Garage Area', 'Total Bsmt SF', 'Year Built', 'Total_Bathrooms', 'Total_SF', 'House_Age', 'Quality_SF_Interaction', 'Has_Garage', 'Has_Basement', 'Has_Pool_QC', 'Is_New_Home']\n",
    "x = df[feature_columns]\n",
    "y = df['SalePrice']\n",
    "\n",
    "print(\"Feature columns selected!\")\n",
    "print(f\"Number of features: {len(feature_columns)}\")\n"
   ]
  },
  {
   "cell_type": "code",
   "execution_count": 110,
   "id": "f10dbe65-3355-43b8-a7d4-817e4198cd50",
   "metadata": {},
   "outputs": [
    {
     "data": {
      "image/png": "[encoded data removed]",
      "text/plain": [
       "<Figure size 640x480 with 1 Axes>"
      ]
     },
     "metadata": {},
     "output_type": "display_data"
    }
   ],
   "source": [
    "pool_prices = df.groupby('Has_Pool_QC')['SalePrice'].mean()\n",
    "plt.bar(['No Pool','Has Pool'],pool_prices)\n",
    "plt.title('Pool Premium')\n",
    "plt.show()"
   ]
  },
  {
   "cell_type": "markdown",
   "id": "9ad241ea-9f00-4b0e-9b5e-8a90768a215c",
   "metadata": {},
   "source": [
    "Houses with pools demands a premium of around $125,000 over houses without pools, showing the value of the premium features in pricing of a property."
   ]
  },
  {
   "cell_type": "code",
   "execution_count": 82,
   "id": "61f60519-0e23-4c4e-9bc3-1b00b06566e6",
   "metadata": {},
   "outputs": [
    {
     "name": "stdout",
     "output_type": "stream",
     "text": [
      "Data split completed:\n",
      "Training set: (2344, 13)\n",
      "Test set: (586, 13)\n",
      "Target variable (SalePrice) range: $12,789 to $755,000\n"
     ]
    }
   ],
   "source": [
    "# Split the data\n",
    "\n",
    "x_train, x_test, y_train, y_test = train_test_split(x,y, test_size = 0.2, random_state = 42)\n",
    "\n",
    "print(\"Data split completed:\")\n",
    "print(f\"Training set: {x_train.shape}\")\n",
    "print(f\"Test set: {x_test.shape}\")\n",
    "print(f\"Target variable (SalePrice) range: ${y.min():,} to ${y.max():,}\")"
   ]
  },
  {
   "cell_type": "code",
   "execution_count": 86,
   "id": "793573e1-aef3-4b6d-8970-d064bef3c0bf",
   "metadata": {},
   "outputs": [
    {
     "name": "stdout",
     "output_type": "stream",
     "text": [
      "Models initialized:\n",
      "- Ridge\n",
      "- Random Forest\n",
      "- Gradient Boosting\n",
      "- Linear Regressor\n"
     ]
    }
   ],
   "source": [
    "# Models initialization:\n",
    "\n",
    "models = {\n",
    "    'Ridge': Ridge(alpha=1.0),\n",
    "    'Random Forest': RandomForestRegressor(n_estimators=100, random_state=42),\n",
    "    'Gradient Boosting': GradientBoostingRegressor(random_state=42),\n",
    "    'Linear Regressor': LinearRegression()\n",
    "}\n",
    "\n",
    "print(\"Models initialized:\")\n",
    "for name in models.keys():\n",
    "    print(f\"- {name}\")"
   ]
  },
  {
   "cell_type": "code",
   "execution_count": 94,
   "id": "dd0bd705-4f8f-440f-bc4c-06bf1d492804",
   "metadata": {},
   "outputs": [
    {
     "name": "stdout",
     "output_type": "stream",
     "text": [
      "Checking training data:\n",
      "x_train missing values: 1\n",
      "y_train missing values: 0\n",
      "x_train data types:\n",
      "Overall Qual                int64\n",
      "Gr Liv Area                 int64\n",
      "Garage Area               float64\n",
      "Total Bsmt SF             float64\n",
      "Year Built                  int64\n",
      "Total_Bathrooms           float64\n",
      "Total_SF                  float64\n",
      "House_Age                   int64\n",
      "Quality_SF_Interaction    float64\n",
      "Has_Garage                  int32\n",
      "Has_Basement                int32\n",
      "Has_Pool_QC                 int32\n",
      "Is_New_Home                 int32\n",
      "dtype: object\n"
     ]
    }
   ],
   "source": [
    "print(\"Checking training data:\")\n",
    "print(f\"x_train missing values: {x_train.isnull().sum().sum()}\")\n",
    "print(f\"y_train missing values: {y_train.isnull().sum()}\")\n",
    "print(f\"x_train data types:\")\n",
    "print(x_train.dtypes)"
   ]
  },
  {
   "cell_type": "markdown",
   "id": "a00eac1c-1f91-44d2-a32b-d7b5cfc6452e",
   "metadata": {},
   "source": [
    "There is one missing value present in the training dataset, which makes the model fail. So, I'm fixing it now."
   ]
  },
  {
   "cell_type": "code",
   "execution_count": 97,
   "id": "69046a3d-4525-4129-a346-2bcaa0ede337",
   "metadata": {},
   "outputs": [
    {
     "name": "stdout",
     "output_type": "stream",
     "text": [
      "Before fixing:\n",
      "x_train missing: 0\n",
      "x_test missing: 1\n",
      "\n",
      "After fixing:\n",
      "x_train missing values: 0\n",
      "x_test missing values: 0\n",
      "Both datasets are now clean!\n"
     ]
    }
   ],
   "source": [
    "print(\"Before fixing:\")\n",
    "print(f\"x_train missing: {x_train.isnull().sum().sum()}\")\n",
    "print(f\"x_test missing: {x_test.isnull().sum().sum()}\")\n",
    "\n",
    "# Fill missing values with median for numerical columns\n",
    "x_train = x_train.fillna(x_train.median())\n",
    "x_test = x_test.fillna(x_train.median())\n",
    "\n",
    "print(\"\\nAfter fixing:\")\n",
    "print(f\"x_train missing values: {x_train.isnull().sum().sum()}\")\n",
    "print(f\"x_test missing values: {x_test.isnull().sum().sum()}\")\n",
    "print(\"Both datasets are now clean!\")"
   ]
  },
  {
   "cell_type": "code",
   "execution_count": 98,
   "id": "929659fc-5001-4c37-aac0-beb331ab46e1",
   "metadata": {},
   "outputs": [
    {
     "name": "stdout",
     "output_type": "stream",
     "text": [
      "Ridge: R² = 0.8293\n",
      "Random Forest: R² = 0.8741\n",
      "Gradient Boosting: R² = 0.8800\n",
      "Linear Regressor: R² = 0.8294\n"
     ]
    }
   ],
   "source": [
    "# Test each model one by one\n",
    "for name, model in models.items():\n",
    "    model.fit(x_train, y_train)\n",
    "    y_pred = model.predict(x_test)\n",
    "    r2 = r2_score(y_test, y_pred)\n",
    "    print(f\"{name}: R² = {r2:.4f}\")"
   ]
  },
  {
   "cell_type": "code",
   "execution_count": 111,
   "id": "1983f982-0046-425a-98d1-e397fc070962",
   "metadata": {},
   "outputs": [
    {
     "data": {
      "image/png": "[encoded data removed]",
      "text/plain": [
       "<Figure size 640x480 with 1 Axes>"
      ]
     },
     "metadata": {},
     "output_type": "display_data"
    }
   ],
   "source": [
    "# Model Scores:\n",
    "\n",
    "models = ['Ridge','Random Forest','Gradient Boosting','Linear']\n",
    "scores = [0.8293,0.8741,0.8800,0.8294]\n",
    "plt.bar(models, scores)\n",
    "plt.title('Model Performance')\n",
    "plt.show()"
   ]
  },
  {
   "cell_type": "markdown",
   "id": "43f03cd5-e7b3-41d7-ad79-24d6589142c6",
   "metadata": {},
   "source": [
    "Gradient Boosting achieved the highest R-Square score(0.8800), which outperforms traditional linear models listed above by around 5%. Ensemble methods prove superior for this coomplex housing datasets"
   ]
  },
  {
   "cell_type": "code",
   "execution_count": 102,
   "id": "c4276a31-d55e-427a-898a-0dbdfe4449e0",
   "metadata": {},
   "outputs": [
    {
     "name": "stdout",
     "output_type": "stream",
     "text": [
      "Best Model Results:\n",
      "Model: Gradient Boosting\n",
      "R2 Score: 0.8800\n",
      "Mean Squared Error: 961848417\n"
     ]
    }
   ],
   "source": [
    "# Get the best model and it's performance\n",
    "best_model = GradientBoostingRegressor(random_state = 42)\n",
    "best_model.fit(x_train, y_train)\n",
    "best_pred = best_model.predict(x_test)\n",
    "best_r2 = r2_score(y_test, best_pred)\n",
    "\n",
    "print(\"Best Model Results:\")\n",
    "print(f\"Model: Gradient Boosting\")\n",
    "print(f\"R2 Score: {best_r2:.4f}\")\n",
    "print(f\"Mean Squared Error: {mean_squared_error(y_test, best_pred):.0f}\")"
   ]
  },
  {
   "cell_type": "code",
   "execution_count": 103,
   "id": "cf7c368d-4dd1-4160-b3ad-4998abe85c7c",
   "metadata": {},
   "outputs": [
    {
     "data": {
      "text/plain": [
       "Quality_SF_Interaction    0.858482\n",
       "Total_Bathrooms           0.032269\n",
       "Year Built                0.026864\n",
       "Garage Area               0.020996\n",
       "Total Bsmt SF             0.016372\n",
       "House_Age                 0.016294\n",
       "Gr Liv Area               0.010579\n",
       "Total_SF                  0.010392\n",
       "Overall Qual              0.006344\n",
       "Has_Pool_QC               0.001172\n",
       "dtype: float64"
      ]
     },
     "execution_count": 103,
     "metadata": {},
     "output_type": "execute_result"
    }
   ],
   "source": [
    "# Top 10 Important features\n",
    "pd.Series(best_model.feature_importances_,index = x_train.columns).nlargest(10)"
   ]
  },
  {
   "cell_type": "code",
   "execution_count": 112,
   "id": "52fcb77a-9f37-45d0-a215-6fa084dfe066",
   "metadata": {},
   "outputs": [
    {
     "data": {
      "image/png": "[encoded data removed]",
      "text/plain": [
       "<Figure size 640x480 with 1 Axes>"
      ]
     },
     "metadata": {},
     "output_type": "display_data"
    }
   ],
   "source": [
    "# Feature importance:\n",
    "\n",
    "importance = pd.Series(best_model.feature_importances_, index=x_train.columns)\n",
    "importance.nlargest(5).plot(kind='barh')\n",
    "plt.title('Top 5 important features')\n",
    "plt.show()"
   ]
  },
  {
   "cell_type": "markdown",
   "id": "371454c6-2017-40c4-95a5-2a1d2b7170d3",
   "metadata": {},
   "source": [
    "\"Quality_SF_Interaction\" dominates with 85.8% importance, proving that house quality combined with size is the main driver for the Sales price prediction. The feature engineering strategy was highly successful."
   ]
  },
  {
   "cell_type": "code",
   "execution_count": 113,
   "id": "c3345f8d-7926-468b-9460-0fcf5fcf2235",
   "metadata": {},
   "outputs": [
    {
     "data": {
      "image/png": "[encoded data removed]",
      "text/plain": [
       "<Figure size 640x480 with 1 Axes>"
      ]
     },
     "metadata": {},
     "output_type": "display_data"
    }
   ],
   "source": [
    "# Actual vs Predicted\n",
    "\n",
    "plt.scatter(y_test, best_pred)\n",
    "plt.xlabel('Actual Price')\n",
    "plt.ylabel('Predicted Price')\n",
    "plt.title('Model Accuracy')\n",
    "plt.show()"
   ]
  },
  {
   "cell_type": "markdown",
   "id": "07c7c497-6825-4708-b706-62edb5a3d8ae",
   "metadata": {},
   "source": [
    "This scatterplot shows a tight clustering around the diagnol line, which confirms the model accurately predicts house prices. R-Square = 0.8800 means we are able to explain 88% of the price variations here."
   ]
  }
 ],
 "metadata": {
  "kernelspec": {
   "display_name": "Python 3 (ipykernel)",
   "language": "python",
   "name": "python3"
  },
  "language_info": {
   "codemirror_mode": {
    "name": "ipython",
    "version": 3
   },
   "file_extension": ".py",
   "mimetype": "text/x-python",
   "name": "python",
   "nbconvert_exporter": "python",
   "pygments_lexer": "ipython3",
   "version": "3.12.7"
  }
 },
 "nbformat": 4,
 "nbformat_minor": 5
}
